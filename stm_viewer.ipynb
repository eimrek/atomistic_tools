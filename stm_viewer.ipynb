{
 "cells": [
  {
   "cell_type": "code",
   "execution_count": null,
   "metadata": {},
   "outputs": [],
   "source": [
    "import numpy as np\n",
    "import matplotlib.pyplot as plt"
   ]
  },
  {
   "cell_type": "code",
   "execution_count": null,
   "metadata": {},
   "outputs": [],
   "source": [
    "import matplotlib\n",
    "\n",
    "class FormatScalarFormatter(matplotlib.ticker.ScalarFormatter):\n",
    "    def __init__(self, fformat=\"%1.1f\", offset=True, mathText=True):\n",
    "        self.fformat = fformat\n",
    "        matplotlib.ticker.ScalarFormatter.__init__(self,useOffset=offset,\n",
    "                                                        useMathText=mathText)\n",
    "    def _set_format(self, vmin, vmax):\n",
    "        self.format = self.fformat\n",
    "        if self._useMathText:\n",
    "            self.format = '$%s$' % matplotlib.ticker._mathdefault(self.format)\n",
    "\n",
    "\n",
    "def make_plot(fig, ax, data, extent, title=None, title_size=None, center0=False, vmin=None, vmax=None, cmap='gist_heat', noadd=False):\n",
    "    if center0:\n",
    "        data_amax = np.max(np.abs(data))\n",
    "        im = ax.imshow(data.T, origin='lower', cmap=cmap, interpolation='bicubic', extent=extent, vmin=-data_amax, vmax=data_amax)\n",
    "    else:\n",
    "        im = ax.imshow(data.T, origin='lower', cmap=cmap, interpolation='bicubic', extent=extent, vmin=vmin, vmax=vmax)\n",
    "    \n",
    "    if noadd:\n",
    "        ax.set_xticks([])\n",
    "        ax.set_yticks([])\n",
    "    else:\n",
    "        ax.set_xlabel(r\"x ($\\AA$)\")\n",
    "        ax.set_ylabel(r\"y ($\\AA$)\")\n",
    "        if 1e-3 < np.max(data) < 1e3:\n",
    "            cb = fig.colorbar(im, ax=ax)\n",
    "        else:\n",
    "            cb = fig.colorbar(im, ax=ax, format=FormatScalarFormatter(\"%.1f\"))\n",
    "        cb.formatter.set_powerlimits((-2, 2))\n",
    "        cb.update_ticks()\n",
    "    ax.set_title(title)\n",
    "    if title_size:\n",
    "        ax.title.set_fontsize(title_size)\n",
    "    ax.axis('scaled')\n",
    "    \n",
    "    \n",
    "def make_series_plot(fig, data, voltages):\n",
    "    for i_bias, bias in enumerate(voltages):\n",
    "        ax = plt.subplot(1, len(voltages), i_bias+1)\n",
    "        make_plot(fig, ax, data[:, :, i_bias], title=\"V=%.2f\"%bias, title_size=22, cmap='gist_heat', noadd=True)"
   ]
  },
  {
   "cell_type": "code",
   "execution_count": null,
   "metadata": {},
   "outputs": [],
   "source": [
    "npz_path = \"/home/kristjan/local_work/stm-test/stms/stm_pa_0.2.npz\"\n",
    "loaded_data = np.load(npz_path)"
   ]
  },
  {
   "cell_type": "code",
   "execution_count": null,
   "metadata": {},
   "outputs": [],
   "source": [
    "isovalues = loaded_data['isovalues']\n",
    "heights = loaded_data['heights']\n",
    "e_arr = loaded_data['e_arr']\n",
    "x_arr = loaded_data['x_arr']\n",
    "y_arr = loaded_data['y_arr']\n",
    "\n",
    "cc_sts = loaded_data['cc_sts']\n",
    "cc_stm = loaded_data['cc_stm'].astype(np.float32)\n",
    "ch_sts = loaded_data['ch_sts']\n",
    "ch_stm = loaded_data['ch_stm']"
   ]
  },
  {
   "cell_type": "code",
   "execution_count": null,
   "metadata": {},
   "outputs": [],
   "source": [
    "extent = [np.min(x_arr), np.max(x_arr), np.min(y_arr), np.max(y_arr)]"
   ]
  },
  {
   "cell_type": "code",
   "execution_count": null,
   "metadata": {
    "scrolled": false
   },
   "outputs": [],
   "source": [
    "sets = [cc_stm, cc_sts, ch_stm, ch_sts]\n",
    "sel_set = [0, 0, 0, 0]\n",
    "\n",
    "figsize = (12, 3*(extent[3] - extent[2])/(extent[1] - extent[0]))\n",
    "\n",
    "for i_e, e in enumerate(e_arr):\n",
    "    fig, ax_arr = plt.subplots(1, 4, figsize=figsize)\n",
    "    print(\"E = %.2f eV\" % e)\n",
    "    for i_ax, ax in enumerate(ax_arr):\n",
    "        make_plot(fig, ax, sets[i_ax][sel_set[i_ax], :, :, i_e], extent, title=\"\", noadd=True)\n",
    "    plt.show()"
   ]
  },
  {
   "cell_type": "code",
   "execution_count": null,
   "metadata": {},
   "outputs": [],
   "source": []
  }
 ],
 "metadata": {
  "kernelspec": {
   "display_name": "Python 3",
   "language": "python",
   "name": "python3"
  },
  "language_info": {
   "codemirror_mode": {
    "name": "ipython",
    "version": 3
   },
   "file_extension": ".py",
   "mimetype": "text/x-python",
   "name": "python",
   "nbconvert_exporter": "python",
   "pygments_lexer": "ipython3",
   "version": "3.6.6"
  }
 },
 "nbformat": 4,
 "nbformat_minor": 2
}
