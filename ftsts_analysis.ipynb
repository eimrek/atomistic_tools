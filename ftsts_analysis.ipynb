{
 "cells": [
  {
   "cell_type": "code",
   "execution_count": null,
   "metadata": {},
   "outputs": [],
   "source": [
    "import numpy as np\n",
    "import importlib\n",
    "\n",
    "import matplotlib.pyplot as plt\n",
    "import matplotlib.gridspec as gridspec\n",
    "\n",
    "import atomistic_tools.cp2k_grid_orbitals\n",
    "import atomistic_tools.cp2k_ftsts\n",
    "\n",
    "import atomistic_tools.qe_utils"
   ]
  },
  {
   "cell_type": "code",
   "execution_count": null,
   "metadata": {},
   "outputs": [],
   "source": [
    "#wfn_file = \"/home/kristjan/local_work/test-ftsts/big-gnr/aiida-RESTART.wfn\"\n",
    "#xyz_file = \"/home/kristjan/local_work/test-ftsts/big-gnr/p.xyz\"\n",
    "#cp2k_inp = \"/home/kristjan/local_work/test-ftsts/big-gnr/ks.inp\"\n",
    "#basis_file = \"/home/kristjan/local_work/test-ftsts/big-gnr/BASIS_MOLOPT\"\n",
    "\n",
    "wfn_file = \"/home/kristjan/local_work/test-ftsts/big-gnr-aux/10_2H2_RKS.wfn\"\n",
    "xyz_file = \"/home/kristjan/local_work/test-ftsts/big-gnr-aux/10_2H2_RKS.xyz\"\n",
    "cp2k_inp = \"/home/kristjan/local_work/test-ftsts/big-gnr-aux/10_2H2_RKS.inp\"\n",
    "basis_file = \"/home/kristjan/local_work/test-ftsts/big-gnr-aux/RI_HFX_BASIS_all\"\n",
    "\n",
    "qe_bands_dir = \"/home/kristjan/local_work/test-ftsts/big-gnr/qe_bands\"\n",
    "lat_param = 12.843\n",
    "\n",
    "\n",
    "#wfn_file = \"/home/kristjan/local_work/test-ftsts/7agnr_12u/PROJ-RESTART.wfn\"\n",
    "#xyz_file = \"/home/kristjan/local_work/test-ftsts/7agnr_12u/12mol_7agnr_opt.xyz\"\n",
    "#cp2k_inp = \"/home/kristjan/local_work/test-ftsts/7agnr_12u/cp2k.inp\"\n",
    "#basis_file = \"/home/kristjan/local_work/test-ftsts/7agnr_12u/BASIS_MOLOPT\"\n",
    "#\n",
    "#qe_bands_dir = \"/home/kristjan/local_work/test-ftsts/7agnr_12u/qe_bands\"\n",
    "#lat_param = 4.26"
   ]
  },
  {
   "cell_type": "code",
   "execution_count": null,
   "metadata": {},
   "outputs": [],
   "source": [
    "# define global energy limits (eV)\n",
    "emin = -1.0\n",
    "emax = 1.0"
   ]
  },
  {
   "cell_type": "code",
   "execution_count": null,
   "metadata": {},
   "outputs": [],
   "source": [
    "cp2k_grid_orb = atomistic_tools.cp2k_grid_orbitals.Cp2kGridOrbitals()\n",
    "cp2k_grid_orb.read_cp2k_input(cp2k_inp)\n",
    "cp2k_grid_orb.read_xyz(xyz_file)\n",
    "cp2k_grid_orb.ase_atoms.center()\n",
    "cp2k_grid_orb.read_basis_functions(basis_file)\n",
    "cp2k_grid_orb.load_restart_wfn_file(wfn_file, emin=emin, emax=emax)"
   ]
  },
  {
   "cell_type": "code",
   "execution_count": null,
   "metadata": {},
   "outputs": [],
   "source": [
    "# define evaluation region (plane)\n",
    "\n",
    "plane_h = 3.0 # ang\n",
    "\n",
    "atoms_max_z = np.max(cp2k_grid_orb.ase_atoms.positions[:, 2]) # ang\n",
    "plane_z = atoms_max_z+plane_h\n",
    "\n",
    "eval_reg = [None, None, [plane_z, plane_z]]"
   ]
  },
  {
   "cell_type": "code",
   "execution_count": null,
   "metadata": {
    "scrolled": false
   },
   "outputs": [],
   "source": [
    "cp2k_grid_orb.calc_morbs_in_region(0.15,\n",
    "                                x_eval_region = eval_reg[0],\n",
    "                                y_eval_region = eval_reg[1],\n",
    "                                z_eval_region = eval_reg[2],\n",
    "                                reserve_extrap = 0.0,\n",
    "                                eval_cutoff = 12.0)"
   ]
  },
  {
   "cell_type": "markdown",
   "metadata": {},
   "source": [
    "# QE bands"
   ]
  },
  {
   "cell_type": "code",
   "execution_count": null,
   "metadata": {},
   "outputs": [],
   "source": [
    "importlib.reload(atomistic_tools.qe_utils)\n",
    "\n",
    "qe_kpts = None\n",
    "qe_bands = None\n",
    "if qe_bands_dir is not None:\n",
    "    if not qe_bands_dir.endswith('/'):\n",
    "        qe_bands_dir += '/'\n",
    "    qe_kpts, qe_bands, qe_fermi_en = atomistic_tools.qe_utils.read_band_data(qe_bands_dir)\n",
    "    # Shift QE bands such that VB onset is 0\n",
    "    qe_homo = atomistic_tools.qe_utils.vb_onset(qe_bands[0], qe_fermi_en)\n",
    "    qe_gap_middle = atomistic_tools.qe_utils.gap_middle(qe_bands[0], qe_fermi_en)\n",
    "    qe_bands -= qe_gap_middle"
   ]
  },
  {
   "cell_type": "markdown",
   "metadata": {},
   "source": [
    "# FT-STS"
   ]
  },
  {
   "cell_type": "code",
   "execution_count": null,
   "metadata": {},
   "outputs": [],
   "source": [
    "importlib.reload(atomistic_tools.cp2k_ftsts)\n",
    "\n",
    "de = 0.01\n",
    "fwhm = 0.05"
   ]
  },
  {
   "cell_type": "code",
   "execution_count": null,
   "metadata": {},
   "outputs": [],
   "source": [
    "ftsts = atomistic_tools.cp2k_ftsts.FTSTS(cp2k_grid_orb)\n",
    "ftsts.project_orbitals_1d(gauss_pos=None, gauss_fwhm=2.0)\n",
    "ftsts.take_fts(crop=True, remove_row_avg=True, padding=3.0)\n",
    "ftsts.make_ftldos(emin, emax, de, fwhm)\n",
    "ftsts.align_middle_of_gap()"
   ]
  },
  {
   "cell_type": "code",
   "execution_count": null,
   "metadata": {},
   "outputs": [],
   "source": [
    "imshow_kwargs = {'aspect': 'auto',\n",
    "                 'origin': 'lower',\n",
    "                 #'cmap': 'jet',\n",
    "                 'cmap': 'gist_ncar',\n",
    "                }"
   ]
  },
  {
   "cell_type": "code",
   "execution_count": null,
   "metadata": {},
   "outputs": [],
   "source": [
    "plt.figure(figsize=(10, 6))\n",
    "plt.imshow(ftsts.ldos.T, extent=ftsts.ldos_extent, **imshow_kwargs)\n",
    "plt.show()"
   ]
  },
  {
   "cell_type": "code",
   "execution_count": null,
   "metadata": {},
   "outputs": [],
   "source": [
    "ftldos, extent = ftsts.get_ftldos_bz(4, lat_param)\n",
    "\n",
    "plt.figure(figsize=(14, 12))\n",
    "plt.imshow(ftldos.T, extent=extent, vmax=0.8*np.max(ftldos), **imshow_kwargs)\n",
    "\n",
    "if qe_bands is not None:\n",
    "    for qe_band in qe_bands[0]:\n",
    "        plt.plot(2*qe_kpts[:, 0]*2*np.pi/lat_param, qe_band, '-', color='r', linewidth=2.0)\n",
    "        \n",
    "plt.ylim([extent[2], extent[3]])\n",
    "plt.show()"
   ]
  },
  {
   "cell_type": "markdown",
   "metadata": {},
   "source": [
    "# Plot individual orbitals"
   ]
  },
  {
   "cell_type": "code",
   "execution_count": null,
   "metadata": {},
   "outputs": [],
   "source": [
    "# select orbitals wrt to HOMO\n",
    "index_start = -5\n",
    "index_end = 6\n",
    "\n",
    "i_spin = 0"
   ]
  },
  {
   "cell_type": "code",
   "execution_count": null,
   "metadata": {
    "scrolled": false
   },
   "outputs": [],
   "source": [
    "for i_mo_wrt_homo in range(index_start, index_end+1):\n",
    "    i_mo = cp2k_grid_orb.homo_inds[0][i_spin] + i_mo_wrt_homo\n",
    "    print(\"HOMO%+d, E=%.3f eV\" % (i_mo_wrt_homo, cp2k_grid_orb.morb_energies[i_spin][i_mo]))\n",
    "    morb = (cp2k_grid_orb.morb_grids[i_spin][i_mo, :, :, 0]).astype(np.float64)\n",
    "    morb_amax = np.max(np.abs(morb))\n",
    "    fig = plt.figure(figsize=(30, 5))\n",
    "    gs1 = gridspec.GridSpec(2, 2, wspace=0.0, hspace=0.0)\n",
    "    gs1.update(left=0.0, right=0.6, wspace=0.0)\n",
    "    ax00 = fig.add_subplot(gs1[0, 0])\n",
    "    ax01 = fig.add_subplot(gs1[0, 1])\n",
    "    ax10 = fig.add_subplot(gs1[1, 0])\n",
    "    ax11 = fig.add_subplot(gs1[1, 1])\n",
    "    \n",
    "    ax00.imshow(morb.T, vmin=-morb_amax, vmax=morb_amax,origin='lower', cmap='seismic')\n",
    "    ax00.set_xticks([])\n",
    "    ax00.set_yticks([])\n",
    "    \n",
    "    ax10.imshow((morb**2).T,origin='lower', cmap='gist_heat')\n",
    "    ax10.set_xticks([])\n",
    "    ax10.set_yticks([])\n",
    "    \n",
    "    ax01.plot(ftsts.morbs_1d[i_spin][:, i_mo])\n",
    "    ax01.set_xticks([])\n",
    "    ax01.set_yticks([])\n",
    "    \n",
    "    bz_boundary = 10*np.pi/lat_param\n",
    "    i_bzb = np.argmin(np.abs(ftsts.k_arr - bz_boundary))\n",
    "    ax11.plot(ftsts.morb_fts[i_spin][:i_bzb, i_mo])\n",
    "    ax11.set_xticks([])\n",
    "    ax11.set_yticks([])\n",
    "    \n",
    "    plt.show()"
   ]
  },
  {
   "cell_type": "code",
   "execution_count": null,
   "metadata": {},
   "outputs": [],
   "source": []
  }
 ],
 "metadata": {
  "kernelspec": {
   "display_name": "Python 3",
   "language": "python",
   "name": "python3"
  },
  "language_info": {
   "codemirror_mode": {
    "name": "ipython",
    "version": 3
   },
   "file_extension": ".py",
   "mimetype": "text/x-python",
   "name": "python",
   "nbconvert_exporter": "python",
   "pygments_lexer": "ipython3",
   "version": "3.6.6"
  }
 },
 "nbformat": 4,
 "nbformat_minor": 2
}
