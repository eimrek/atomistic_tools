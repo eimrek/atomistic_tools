{
 "cells": [
  {
   "cell_type": "code",
   "execution_count": null,
   "metadata": {},
   "outputs": [],
   "source": [
    "import numpy as np\n",
    "import matplotlib.pyplot as plt"
   ]
  },
  {
   "cell_type": "code",
   "execution_count": null,
   "metadata": {},
   "outputs": [],
   "source": [
    "def create_series_w_broadening(x_values, y_values, x_arr, fwhm, shape='g'):\n",
    "    spectrum = np.zeros(len(x_arr))\n",
    "    def lorentzian(x_):\n",
    "        factor = np.pi*fwhm/2 # to make maximum 1.0\n",
    "        return factor*0.5*fwhm/(np.pi*(x_**2+(0.5*fwhm)**2))\n",
    "    def gaussian(x_):\n",
    "        sigma = fwhm/2.3548\n",
    "        return np.exp(-x_**2/(2*sigma**2))\n",
    "    for xv, yv in zip(x_values, y_values):\n",
    "        if shape == 'g':\n",
    "            spectrum += yv*gaussian(x_arr - xv)\n",
    "        else:\n",
    "            spectrum += yv*lorentzian(x_arr - xv)\n",
    "    return spectrum"
   ]
  },
  {
   "cell_type": "code",
   "execution_count": null,
   "metadata": {},
   "outputs": [],
   "source": [
    "def create_the_plot(fwhm, elim, over_mat, en, gas_en, gas_i_homo):\n",
    "    \n",
    "    de = np.min([fwhm/5, 0.005])\n",
    "    energy_arr = np.arange(elim[0], elim[1], de)\n",
    "    \n",
    "    plt.figure(figsize=(12, 6))\n",
    "    \n",
    "    ### -----------------------------------------------\n",
    "    ### overlap part\n",
    "    \n",
    "    ax2 = plt.gca()\n",
    "    \n",
    "    max_overlap = 0.0\n",
    "\n",
    "    for i_gas in range(over_mat.shape[1]):\n",
    "        wrt_h = i_gas - gas_i_homo\n",
    "        if wrt_h < 0:\n",
    "            label = \"HOMO%d\"%wrt_h\n",
    "        elif wrt_h == 0:\n",
    "            label = \"HOMO\"\n",
    "        elif wrt_h == 1:\n",
    "            label = \"LUMO\"\n",
    "        else:\n",
    "            label = \"LUMO+%d\"%(wrt_h-1)\n",
    "        label += \" (%.2f)\"%gas_en[i_gas]\n",
    "        series = create_series_w_broadening(en, over_mat[:, i_gas], energy_arr, fwhm)\n",
    "        if np.max(series) > max_overlap:\n",
    "            max_overlap = np.max(series)\n",
    "        ax2.plot(energy_arr, series, label=label, lw=2.0)\n",
    "    \n",
    "    overlap_lim = np.min([np.around(max_overlap+0.055, 1), 1.0])\n",
    "    ax2.set_ylim([0.0, overlap_lim])\n",
    "    ax2.set_ylabel(\"Overlap of orbitals\")\n",
    "    ax2.legend(loc='upper right')\n",
    "\n",
    "    ax2.set_xlabel(\"$E-E_F$ [eV]\")\n",
    "\n",
    "    plt.show()"
   ]
  },
  {
   "cell_type": "code",
   "execution_count": null,
   "metadata": {},
   "outputs": [],
   "source": [
    "npz_path = \"/home/kristjan/local_work/stm-test/stms/overlap_pa.npz\"\n",
    "loaded_data = np.load(npz_path)"
   ]
  },
  {
   "cell_type": "code",
   "execution_count": null,
   "metadata": {},
   "outputs": [],
   "source": [
    "overlap_matrix = loaded_data['overlap_matrix']\n",
    "en_grp1 = loaded_data['en_grp1']\n",
    "en_grp2 = loaded_data['en_grp2']\n",
    "homo_grp1 = loaded_data['homo_grp1']"
   ]
  },
  {
   "cell_type": "code",
   "execution_count": null,
   "metadata": {},
   "outputs": [],
   "source": [
    "overlap_matrix.shape"
   ]
  },
  {
   "cell_type": "code",
   "execution_count": null,
   "metadata": {},
   "outputs": [],
   "source": [
    "create_the_plot(0.05, (-2.0, 2.0), overlap_matrix, en_grp1, en_grp2, homo_grp1)"
   ]
  },
  {
   "cell_type": "code",
   "execution_count": null,
   "metadata": {},
   "outputs": [],
   "source": []
  }
 ],
 "metadata": {
  "kernelspec": {
   "display_name": "Python 3",
   "language": "python",
   "name": "python3"
  },
  "language_info": {
   "codemirror_mode": {
    "name": "ipython",
    "version": 3
   },
   "file_extension": ".py",
   "mimetype": "text/x-python",
   "name": "python",
   "nbconvert_exporter": "python",
   "pygments_lexer": "ipython3",
   "version": "3.6.6"
  }
 },
 "nbformat": 4,
 "nbformat_minor": 2
}
